{
  "nbformat": 4,
  "nbformat_minor": 0,
  "metadata": {
    "colab": {
      "name": "07_milestone_project_1_food_vision_video.ipynb",
      "provenance": []
    },
    "kernelspec": {
      "name": "python3",
      "display_name": "Python 3"
    },
    "language_info": {
      "name": "python"
    },
    "accelerator": "GPU"
  },
  "cells": [
    {
      "cell_type": "markdown",
      "source": [
        "# Milestone Project 1: Food Vision Big"
      ],
      "metadata": {
        "id": "I2ENIqANDSc5"
      }
    },
    {
      "cell_type": "markdown",
      "source": [
        "\n",
        "## Check GPU\n",
        "\n",
        "Google Colab offers free GPUs, however, not all of them are compatiable with mixed precision training.\n",
        "\n",
        "Google Colab offers:\n",
        "\n",
        "   * K80 (not compatible)\n",
        "   * P100 (not compatible)\n",
        "   * Tesla T4 (compatible)"
      ],
      "metadata": {
        "id": "X52_LvHwFTvG"
      }
    },
    {
      "cell_type": "code",
      "source": [
        "# If the following line doesn't output \"Tesla T4\", you can try getting access to\n",
        "# another GPU by going to Runtime -> Factory Reset Runtime -> \"Yes\" and then\n",
        "# re-running this cell.\n",
        "!nvidia-smi -L"
      ],
      "metadata": {
        "colab": {
          "base_uri": "https://localhost:8080/"
        },
        "id": "STiJLd98Fa6U",
        "outputId": "0f57c473-7e79-4e26-fe11-6ffb615c6dd7"
      },
      "execution_count": 1,
      "outputs": [
        {
          "output_type": "stream",
          "name": "stdout",
          "text": [
            "GPU 0: Tesla T4 (UUID: GPU-ba14a25f-8094-0fa6-77e5-261dfb9918a9)\n"
          ]
        }
      ]
    },
    {
      "cell_type": "code",
      "source": [
        ""
      ],
      "metadata": {
        "id": "rojd-zHjGygS"
      },
      "execution_count": null,
      "outputs": []
    }
  ]
}